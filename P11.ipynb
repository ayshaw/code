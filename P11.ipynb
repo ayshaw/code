{
 "cells": [
  {
   "cell_type": "markdown",
   "metadata": {},
   "source": [
    "# Problem 1.1"
   ]
  },
  {
   "cell_type": "code",
   "execution_count": null,
   "metadata": {},
   "outputs": [],
   "source": [
    "import multiprocessing as mp\n",
    "import time\n",
    "\n",
    "def burnTime(k):\n",
    "    print(\"Hi Job %d\" % k)\n",
    "    time.sleep(0.25)\n",
    "    print(\"Bye Job %d\" % k)\n",
    "    return k\n",
    "\n",
    "if __name__ == '__main__':\n",
    "    pool = mp.Pool(4); # Create a pool of 4 processes\n",
    "\n",
    "    # Apply burnTime to this list of \"job numbers\" using the pool\n",
    "    result = pool.map(burnTime, range(10))\n",
    "    print(result)\n"
   ]
  },
  {
   "cell_type": "markdown",
   "metadata": {},
   "source": [
    "#### 1.1.1\n",
    "the order at which the processors are assigned the job differs every time. Therefore the code executes differently everytime<br>\n",
    "#### 1.1.2\n",
    "The code is not bit reproducible. To make it reproducible the order of execution (i.e. the order at which the processors execute the code) should be specified the same each time.<br>\n",
    "#### 1.1.3\n",
    "Where there is a calculation whose value is based upon a prior iteration's calculation, it is important to make sure that the order is specified. If order preservation is not specified, the results from each partition are handed off to the next stage of the query in an arbitrary order.<br>\n",
    "\n"
   ]
  },
  {
   "cell_type": "markdown",
   "metadata": {},
   "source": [
    "model: Intel(R) Core(TM) i7-4770HQ CPU @ 2.20GHz<br>\n",
    "number of cores per CPU: 4<br>\n",
    "l1icachesize: 32768<br>\n",
    "l1dcachesize: 32768<br>\n",
    "l2cachesize: 262144<br>\n",
    "l3cachesize: 6291546<br>\n",
    "main memory: 16 GB 1600 MHz DDR3<br>\n",
    "storage: 251 GB flash storage<br>\n",
    "operating system: macOS High Sierra 10.13.3<br>\n",
    "compiler: python version 3.6.4<br>\n",
    "libraries: <br>\n",
    "multiprocessing version 3.6<br>\n",
    "time version 3.6\n"
   ]
  }
 ],
 "metadata": {
  "kernelspec": {
   "display_name": "Python 3",
   "language": "python",
   "name": "python3"
  },
  "language_info": {
   "codemirror_mode": {
    "name": "ipython",
    "version": 3
   },
   "file_extension": ".py",
   "mimetype": "text/x-python",
   "name": "python",
   "nbconvert_exporter": "python",
   "pygments_lexer": "ipython3",
   "version": "3.6.4"
  }
 },
 "nbformat": 4,
 "nbformat_minor": 2
}
