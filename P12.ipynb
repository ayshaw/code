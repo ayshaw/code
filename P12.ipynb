{
 "cells": [
  {
   "cell_type": "code",
   "execution_count": null,
   "metadata": {
    "collapsed": true
   },
   "outputs": [],
   "source": [
    "import numpy as np\n",
    "import multiprocessing as mp\n",
    "import time\n",
    "import matplotlib.pyplot as plt\n",
    "\n",
    "# Sleep for t seconds\n",
    "def burnTime(t):\n",
    "    time.sleep(t)\n",
    "\n",
    "# Main\n",
    "if __name__ == '__main__':\n",
    "    N = 16 # The number of jobs\n",
    "    P = 4  # The number of processes\n",
    "\n",
    "    # A thread pool of P processes\n",
    "    pool = mp.Pool(P)\n",
    "    \n",
    "    \n",
    "    # Use a variety of wait times\n",
    "    wait_time=([10**(-6),10**(-5),10**(-4),10**(-3),10**(-2),10**(-1),10,100])\n",
    "    ratio = np.zeros(len(wait_time))\n",
    "    time_ser=np.zeros(len(wait_time))\n",
    "    time_para=np.zeros(len(wait_time))\n",
    "    val=np.zeros(len(wait_time))\n",
    "    for t in range(0,len(wait_time)):\n",
    "        val=wait_time[t]*np.ones(16)\n",
    "        # Compute jobs serially and in parallel\n",
    "        # Use time.time() to compute the elapsed time for each\n",
    "        serialTime = 1;\n",
    "        parallelTime = 1;\n",
    "        # serial\n",
    "        t1=time.time()\n",
    "        for j in range(16):\n",
    "            burnTime(wait_time[t])\n",
    "        time_ser[t]=time.time()-t1 \n",
    "       \n",
    "        t2=time.time()\n",
    "        pool.map(burnTime,val)\n",
    "        time_para[t]=time.time()-t2  \n",
    "        ratio[t]=time_para[t]/time_ser[t]\n",
    "        print(wait_time[t])\n",
    "        # Compute the ratio of these times\n",
    "        #ratio.append(serialTime/parallelTime)\n",
    "\n",
    "    # Plot the results\n",
    "    plt.plot(wait_time, ratio, '-ob')\n",
    "    plt.xscale('log')\n",
    "    plt.xlabel('Wait Time (sec)')\n",
    "    plt.ylabel('Serial Time (sec) / Parallel Time (sec)')\n",
    "    plt.title('Speedup versus function time')\n",
    "    plt.show()\n"
   ]
  },
  {
   "cell_type": "code",
   "execution_count": 5,
   "metadata": {},
   "outputs": [
    {
     "name": "stdout",
     "output_type": "stream",
     "text": [
      "[  1.00000000e-05   1.00000000e-05   1.00000000e-05   1.00000000e-05\n",
      "   1.00000000e-05   1.00000000e-05   1.00000000e-05   1.00000000e-05\n",
      "   1.00000000e-05   1.00000000e-05   1.00000000e-05   1.00000000e-05\n",
      "   1.00000000e-05   1.00000000e-05   1.00000000e-05   1.00000000e-05]\n"
     ]
    }
   ],
   "source": [
    "import numpy as np\n",
    "wait_time=([10**(-6),10**(-5),10**(-4),10**(-3),10**(-2),10**(-1),10,100])\n",
    "val=wait_time[1]*np.ones(16)\n",
    "print(val)"
   ]
  },
  {
   "cell_type": "code",
   "execution_count": null,
   "metadata": {
    "collapsed": true
   },
   "outputs": [],
   "source": []
  }
 ],
 "metadata": {
  "kernelspec": {
   "display_name": "Python 3",
   "language": "python",
   "name": "python3"
  },
  "language_info": {
   "codemirror_mode": {
    "name": "ipython",
    "version": 3
   },
   "file_extension": ".py",
   "mimetype": "text/x-python",
   "name": "python",
   "nbconvert_exporter": "python",
   "pygments_lexer": "ipython3",
   "version": "3.6.2"
  }
 },
 "nbformat": 4,
 "nbformat_minor": 2
}
